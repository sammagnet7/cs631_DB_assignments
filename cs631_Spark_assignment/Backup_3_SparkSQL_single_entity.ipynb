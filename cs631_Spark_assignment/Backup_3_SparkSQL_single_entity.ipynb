{
 "cells": [
  {
   "cell_type": "code",
   "execution_count": 1,
   "metadata": {},
   "outputs": [],
   "source": [
    "from pyspark.sql import SparkSession\n",
    "from pyspark.sql import Row\n",
    "from pyspark.sql.functions import explode, col, lower, udf\n",
    "from pyspark.sql.types import StringType\n",
    "import json\n",
    "import re\n"
   ]
  },
  {
   "cell_type": "markdown",
   "metadata": {},
   "source": [
    "#### Create a Spark session with 4 parallel CPUs"
   ]
  },
  {
   "cell_type": "code",
   "execution_count": null,
   "metadata": {},
   "outputs": [],
   "source": [
    "spark = SparkSession.builder \\\n",
    "    .master(\"local[4]\") \\\n",
    "    .appName(\"Datframe Single Entity Article Pair\") \\\n",
    "    .getOrCreate()\n"
   ]
  },
  {
   "cell_type": "markdown",
   "metadata": {},
   "source": [
    "\n",
    "#### Define the list of keywords as a constant array"
   ]
  },
  {
   "cell_type": "code",
   "execution_count": 3,
   "metadata": {},
   "outputs": [],
   "source": [
    "keywords = [\n",
    "    \"modi\", \"rahul\", \"jaitley\", \"sonia\", \"lalu\", \"nitish\", \"farooq\", \n",
    "    \"sushma\", \"tharoor\", \"smriti\", \"mamata\", \"karunanidhi\", \"kejriwal\", \n",
    "    \"sidhu\", \"yogi\", \"mayawati\", \"akhilesh\", \"chandrababu\", \"chidambaram\", \n",
    "    \"fadnavis\", \"uddhav\", \"pawar\"\n",
    "]"
   ]
  },
  {
   "cell_type": "markdown",
   "metadata": {},
   "source": [
    "#### Function to clean and tokenize text\n"
   ]
  },
  {
   "cell_type": "code",
   "execution_count": 4,
   "metadata": {},
   "outputs": [],
   "source": [
    "def tokenize(text):\n",
    "    text = text.lower()  # Convert to lowercase\n",
    "    text = re.sub(r'[^a-z]', ' ', text)  # Remove all punctuation and non-alphabetic characters\n",
    "    text = re.sub(r'( )+', ' ', text)  # Replace multiple spaces with a single space\n",
    "    text = text.strip()  # Trim leading and trailing spaces\n",
    "    tokens = text.split()  # Split into words\n",
    "    return tokens"
   ]
  },
  {
   "cell_type": "markdown",
   "metadata": {},
   "source": [
    "#### Read JSON files into Spark DataFrame"
   ]
  },
  {
   "cell_type": "code",
   "execution_count": null,
   "metadata": {},
   "outputs": [],
   "source": [
    "# Path to the directory containing JSON files\n",
    "json_dir_path = './given/newsdata/'\n",
    "\n",
    "# Read all JSON files in the directory as a RDD of (filename, content)\n",
    "rdd = spark.sparkContext.wholeTextFiles(json_dir_path + '*')\n",
    "# Creates a Row object for each dictionary. The ** operator unpacks the dictionary so that its keys become the field names and values become the field values in the Row object.\n",
    "\n",
    "# Use map to parse JSON strings into Row objects\n",
    "rows_rdd = rdd.map(lambda file: json.loads(file[1])) \\\n",
    "              .map(lambda json_data: Row(**json_data))\n",
    "\n",
    "# Convert RDD to DataFrame\n",
    "df_json = spark.createDataFrame(rows_rdd)\n",
    "\n",
    "# Show the schema and the first few rows of the DataFrame\n",
    "df_json.show(truncate=False)\n"
   ]
  },
  {
   "cell_type": "markdown",
   "metadata": {},
   "source": [
    "#### Print the resulting (entity, count) pairs"
   ]
  },
  {
   "cell_type": "code",
   "execution_count": null,
   "metadata": {},
   "outputs": [],
   "source": [
    "for entity, count in entity_count:\n",
    "    print(f\"{entity}: {count}\")"
   ]
  },
  {
   "cell_type": "markdown",
   "metadata": {},
   "source": [
    "#### Stop the Spark session"
   ]
  },
  {
   "cell_type": "code",
   "execution_count": 7,
   "metadata": {},
   "outputs": [],
   "source": [
    "spark.stop()"
   ]
  }
 ],
 "metadata": {
  "kernelspec": {
   "display_name": "Python 3",
   "language": "python",
   "name": "python3"
  },
  "language_info": {
   "codemirror_mode": {
    "name": "ipython",
    "version": 3
   },
   "file_extension": ".py",
   "mimetype": "text/x-python",
   "name": "python",
   "nbconvert_exporter": "python",
   "pygments_lexer": "ipython3",
   "version": "3.12.3"
  }
 },
 "nbformat": 4,
 "nbformat_minor": 2
}
